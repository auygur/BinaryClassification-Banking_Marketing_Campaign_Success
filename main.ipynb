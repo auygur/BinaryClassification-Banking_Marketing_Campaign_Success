{
 "cells": [
  {
   "cell_type": "markdown",
   "metadata": {},
   "source": [
    "# Step0 - Import Libraries"
   ]
  },
  {
   "cell_type": "code",
   "execution_count": 1,
   "metadata": {
    "collapsed": false
   },
   "outputs": [
    {
     "name": "stdout",
     "output_type": "stream",
     "text": [
      "Imports Loaded!\n"
     ]
    }
   ],
   "source": [
    "import pandas as pd\n",
    "import numpy as np\n",
    "\n",
    "from sklearn.ensemble import RandomForestClassifier,AdaBoostClassifier, GradientBoostingClassifier, VotingClassifier, ExtraTreesClassifier\n",
    "from sklearn.neighbors import KNeighborsClassifier\n",
    "from mlxtend.classifier import StackingClassifier\n",
    "from sklearn.tree import DecisionTreeClassifier\n",
    "from sklearn.discriminant_analysis import LinearDiscriminantAnalysis\n",
    "from sklearn.naive_bayes import GaussianNB\n",
    "from sklearn.neural_network import MLPClassifier\n",
    "from sklearn.linear_model import LogisticRegression, LogisticRegressionCV\n",
    "from sklearn.feature_selection import mutual_info_regression,f_regression\n",
    "from sklearn.base import TransformerMixin\n",
    "from sklearn.pipeline import make_pipeline\n",
    "from sklearn.preprocessing import MinMaxScaler,RobustScaler\n",
    "from sklearn.model_selection import train_test_split,cross_val_score, GridSearchCV\n",
    "from sklearn.metrics import accuracy_score,roc_auc_score\n",
    "\n",
    "import matplotlib.pyplot as plt\n",
    "% matplotlib inline\n",
    "\n",
    "from imblearn.under_sampling import RandomUnderSampler\n",
    "from imblearn.pipeline import make_pipeline as make_imb_pipeline\n",
    "from imblearn.over_sampling import RandomOverSampler\n",
    "\n",
    "import warnings\n",
    "warnings.filterwarnings(\"ignore\")\n",
    "\n",
    "print(\"Imports Loaded!\")"
   ]
  },
  {
   "cell_type": "markdown",
   "metadata": {},
   "source": [
    "# Step1 - Exploration and Preparation\n"
   ]
  },
  {
   "cell_type": "markdown",
   "metadata": {},
   "source": [
    "### Identify and mark continuous and categorical columns"
   ]
  },
  {
   "cell_type": "code",
   "execution_count": 2,
   "metadata": {
    "collapsed": true
   },
   "outputs": [],
   "source": [
    "seed= 0\n",
    "rng=np.random.seed(seed)\n",
    "NanCols={'job':['unemployed','unknown'],\n",
    "        'marital_status':['unknown'],\n",
    "        'credit_default':['unknown'],\n",
    "        'housing':['unknown'],\n",
    "        'loan':['unknown']}\n",
    "\n",
    "Continuous_cols=['emp_var_rate','cons_price_idx','cons_conf_idx','euribor3m',\n",
    "                 'nr_employed',\"campaign\",\"prev_contacts\"]\n",
    "columnsToDrop = []"
   ]
  },
  {
   "cell_type": "markdown",
   "metadata": {},
   "source": [
    "### Declare and define functions that will be used further for processing\n",
    "\n",
    "Here we have also included other function that we believed were necessary not only for plotting but analysing impact of adding features,how they were related etc.\n",
    "\n"
   ]
  },
  {
   "cell_type": "code",
   "execution_count": 3,
   "metadata": {
    "collapsed": true
   },
   "outputs": [],
   "source": [
    "def getData(file):\n",
    "    df = pd.read_csv(file,header=0)\n",
    "    df['subscribed']=df['subscribed'].replace('yes',1,regex=True)\n",
    "    df['subscribed']=df['subscribed'].replace('no',0,regex=True)\n",
    "    \n",
    "    df['education']=df['education'].replace('basic.4y',\"basic\",regex=True)\n",
    "    df['education']=df['education'].replace('basic.6y',\"basic\",regex=True)\n",
    "    df['education']=df['education'].replace('basic.9y',\"basic\",regex=True)\n",
    "    df[\"campaign\"].ix[df[\"campaign\"]>15]=15\n",
    "    df[\"prev_contacts\"].ix[df[\"prev_contacts\"]>5]=5\n",
    "    \n",
    "    del df['duration']\n",
    "    return df\n",
    "\n",
    "def tagMissingValues(df):\n",
    "    '''replace NAN vals'''\n",
    "    train=df.copy()\n",
    "    for key, value in NanCols.items():\n",
    "        for val in value:\n",
    "            train[key].ix[df[key]==val]=\"TAG\"\n",
    "    train = train.dropna(subset = columnsToDrop)\n",
    "    return train\n",
    "  \n",
    "def splitTargetAndPredictors(df,targetColumn):\n",
    "    '''seperate the response variable'''\n",
    "    targetDf=pd.DataFrame(df[targetColumn])\n",
    "    del df[targetColumn]\n",
    "    return df,targetDf\n",
    "\n",
    "def binColumns(df,threshold = 10):\n",
    "    prevbins = [0, threshold,2*threshold,3*threshold]\n",
    "    x = np.array(df.prev_days)\n",
    "    df.prev_days = (np.digitize(x,prevbins)).astype(object)\n",
    "    \n",
    "    ageBins = [21,62,81]\n",
    "    x = np.array(df.age)\n",
    "    df.age = (np.digitize(x,ageBins)).astype(object)\n",
    "    \n",
    "    emplBins = np.arange(5000,5250,50)\n",
    "    x = np.array(df.nr_employed)\n",
    "    df.nr_employed=np.digitize(x,emplBins).astype(object)\n",
    "    return df\n",
    "    \n",
    "def addFeatures(df):\n",
    "    df.loc[(df['month']=='mar')|(df['month']=='apr')|(df['month']=='may'),\"season\"]=\"spring\"\n",
    "    df.loc[(df['month']=='jun')|(df['month']=='jul')|(df['month']=='aug'),\"season\"]=\"summer\"\n",
    "    df.loc[(df['month']=='sep')|(df['month']=='oct')|(df['month']=='nov'),\"season\"]=\"fall\"\n",
    "    df.loc[(df['month']=='dec')|(df['month']=='jan')|(df['month']=='feb'),\"season\"]=\"winter\"\n",
    "    return df\n",
    "\n",
    "def Plot(cat = \"category\"):\n",
    "    if cat == \"category\":\n",
    "        fig_size = plt.rcParams[\"figure.figsize\"]\n",
    "        fig_size[0] = 10\n",
    "        fig_size[1] = 4\n",
    "\n",
    "        cols = [col for col in trainDataPrevDaysBinned.columns if col \n",
    "                not in Continuous_cols and col!=\"subscribed\"]\n",
    "        for col in cols:\n",
    "            ptl = trainDataPrevDaysBinned.groupby([col])['subscribed'].mean()\n",
    "            ptl = pd.DataFrame(ptl,index=trainDataPrevDaysBinned[col].unique())\n",
    "            ptl = ptl.sort(\"subscribed\")\n",
    "            ptl.plot.barh()\n",
    "            plt.title(col+ \" vs subscribed\")\n",
    "    else:\n",
    "        fig_size = plt.rcParams[\"figure.figsize\"]\n",
    "        fig_size[0] = 10\n",
    "        fig_size[1] = 4\n",
    "\n",
    "        cols = [col for col in trainDataPrevDaysBinned.columns if col in \n",
    "                Continuous_cols and col!=\"subscribed\"]\n",
    "\n",
    "        for col in cols:\n",
    "            ptl = trainDataPrevDaysBinned.groupby([col])['subscribed'].mean()\n",
    "            ptl = pd.DataFrame(ptl)\n",
    "            ptl.plot(color='r')\n",
    "            if col == \"campaign\":\n",
    "                plt.xticks(np.arange(0,16,2))\n",
    "            plt.title(col+ \" vs subscribed\")\n",
    "    return None"
   ]
  },
  {
   "cell_type": "markdown",
   "metadata": {},
   "source": [
    "### PLOTS\n",
    "\n",
    "Here we have done analysis on missing values,how they could behave as a category by themselves or effect of imputing them.Note that this was necessary to understand the relationship of one feature with target.For the purpose of plots,we taggesd yes/no in subscribed  as 1/0 and are plotting mean values."
   ]
  },
  {
   "cell_type": "code",
   "execution_count": 4,
   "metadata": {
    "collapsed": false
   },
   "outputs": [],
   "source": [
    "rawDf=getData(\"data/data.csv\")\n",
    "trainData=tagMissingValues(rawDf)\n",
    "trainData=addFeatures(trainData)\n",
    "trainDataPrevDaysBinned=binColumns(trainData)\n",
    "trainX,trainY=splitTargetAndPredictors(trainDataPrevDaysBinned.copy(),'subscribed')\n"
   ]
  },
  {
   "cell_type": "markdown",
   "metadata": {},
   "source": [
    "### Plots for categorical columns"
   ]
  },
  {
   "cell_type": "code",
   "execution_count": 5,
   "metadata": {
    "collapsed": false,
    "scrolled": false
   },
   "outputs": [
    {
     "data": {
      "image/png": "[encoded data removed]",
      "text/plain": [
       "<matplotlib.figure.Figure at 0x1792d142c18>"
      ]
     },
     "metadata": {},
     "output_type": "display_data"
    },
    {
     "data": {
      "image/png": "[encoded data removed]",
      "text/plain": [
       "<matplotlib.figure.Figure at 0x1792d4942b0>"
      ]
     },
     "metadata": {},
     "output_type": "display_data"
    },
    {
     "data": {
      "image/png": "[encoded data removed]",
      "text/plain": [
       "<matplotlib.figure.Figure at 0x1792d142d30>"
      ]
     },
     "metadata": {},
     "output_type": "display_data"
    },
    {
     "data": {
      "image/png": "[encoded data removed]",
      "text/plain": [
       "<matplotlib.figure.Figure at 0x1792d709da0>"
      ]
     },
     "metadata": {},
     "output_type": "display_data"
    },
    {
     "data": {
      "image/png": "[encoded data removed]",
      "text/plain": [
       "<matplotlib.figure.Figure at 0x1792e2d0be0>"
      ]
     },
     "metadata": {},
     "output_type": "display_data"
    },
    {
     "data": {
      "image/png": "[encoded data removed]",
      "text/plain": [
       "<matplotlib.figure.Figure at 0x1792e340d68>"
      ]
     },
     "metadata": {},
     "output_type": "display_data"
    },
    {
     "data": {
      "image/png": "[encoded data removed]",
      "text/plain": [
       "<matplotlib.figure.Figure at 0x1792e3a5c50>"
      ]
     },
     "metadata": {},
     "output_type": "display_data"
    },
    {
     "data": {
      "image/png": "[encoded data removed]",
      "text/plain": [
       "<matplotlib.figure.Figure at 0x1792e419940>"
      ]
     },
     "metadata": {},
     "output_type": "display_data"
    },
    {
     "data": {
      "image/png": "[encoded data removed]",
      "text/plain": [
       "<matplotlib.figure.Figure at 0x1792e4910f0>"
      ]
     },
     "metadata": {},
     "output_type": "display_data"
    },
    {
     "data": {
      "image/png": "[encoded data removed]",
      "text/plain": [
       "<matplotlib.figure.Figure at 0x1792e4b3b00>"
      ]
     },
     "metadata": {},
     "output_type": "display_data"
    },
    {
     "data": {
      "image/png": "[encoded data removed]",
      "text/plain": [
       "<matplotlib.figure.Figure at 0x1792e5a4d68>"
      ]
     },
     "metadata": {},
     "output_type": "display_data"
    },
    {
     "data": {
      "image/png": "[encoded data removed]",
      "text/plain": [
       "<matplotlib.figure.Figure at 0x1792e61ffd0>"
      ]
     },
     "metadata": {},
     "output_type": "display_data"
    },
    {
     "data": {
      "image/png": "[encoded data removed]",
      "text/plain": [
       "<matplotlib.figure.Figure at 0x1792e68be48>"
      ]
     },
     "metadata": {},
     "output_type": "display_data"
    }
   ],
   "source": [
    "##plot categorical data\n",
    "Plot()"
   ]
  },
  {
   "cell_type": "markdown",
   "metadata": {},
   "source": [
    "### Plots for continuous columns"
   ]
  },
  {
   "cell_type": "code",
   "execution_count": 6,
   "metadata": {
    "collapsed": false,
    "scrolled": false
   },
   "outputs": [
    {
     "data": {
      "image/png": "[encoded data removed]",
      "text/plain": [
       "<matplotlib.figure.Figure at 0x1792db9cd30>"
      ]
     },
     "metadata": {},
     "output_type": "display_data"
    },
    {
     "data": {
      "image/png": "[encoded data removed]",
      "text/plain": [
       "<matplotlib.figure.Figure at 0x1792891c668>"
      ]
     },
     "metadata": {},
     "output_type": "display_data"
    },
    {
     "data": {
      "image/png": "[encoded data removed]",
      "text/plain": [
       "<matplotlib.figure.Figure at 0x1792891cf98>"
      ]
     },
     "metadata": {},
     "output_type": "display_data"
    },
    {
     "data": {
      "image/png": "[encoded data removed]",
      "text/plain": [
       "<matplotlib.figure.Figure at 0x1792dcb5438>"
      ]
     },
     "metadata": {},
     "output_type": "display_data"
    },
    {
     "data": {
      "image/png": "[encoded data removed]",
      "text/plain": [
       "<matplotlib.figure.Figure at 0x1792dd1d780>"
      ]
     },
     "metadata": {},
     "output_type": "display_data"
    },
    {
     "data": {
      "image/png": "[encoded data removed]",
      "text/plain": [
       "<matplotlib.figure.Figure at 0x1792fcf40b8>"
      ]
     },
     "metadata": {},
     "output_type": "display_data"
    },
    {
     "data": {
      "image/png": "[encoded data removed]",
      "text/plain": [
       "<matplotlib.figure.Figure at 0x1792fcf0cc0>"
      ]
     },
     "metadata": {},
     "output_type": "display_data"
    }
   ],
   "source": [
    "##plot continuous data\n",
    "Plot(\"ncat\")"
   ]
  },
  {
   "cell_type": "markdown",
   "metadata": {},
   "source": [
    "# Step2 - ModelSet1 "
   ]
  },
  {
   "cell_type": "markdown",
   "metadata": {},
   "source": [
    "### Feature Engineering\n",
    "\n",
    "1) Drop duration feature from use\n",
    "\n",
    "2) We found out after multiple trials and error that unknown themselves behave as category.Hence we attempted to learn model parameters with and without imputing them.\n",
    "\n",
    "3) Also we tried derived new features from existing features-such as attaching season from months after learning relatship shown in the plots above.\n",
    "\n",
    "4) Bin features such as prev_days,emp_var,campaign,employees etc. into approriate columns.\n",
    "\n",
    "5) After this we were as such left with only handful continuous columns.\n",
    "\n",
    "6) We also tested various scaling techniques such as - minmax scaler,standard scalre and crossvalidated results.It appearsed that Min max scaler gave best results.\n",
    "\n"
   ]
  },
  {
   "cell_type": "code",
   "execution_count": 7,
   "metadata": {
    "collapsed": false
   },
   "outputs": [
    {
     "name": "stdout",
     "output_type": "stream",
     "text": [
      "##Lists Loaded\n"
     ]
    }
   ],
   "source": [
    "seed= 0\n",
    "rng=np.random.seed(seed)\n",
    "\n",
    "Continuous_cols=['emp_var_rate','cons_price_idx','cons_conf_idx','euribor3m',\n",
    "                 'nr_employed',\"campaign\",\"prev_contacts\"]\n",
    "\n",
    "print(\"##Lists Loaded\")"
   ]
  },
  {
   "cell_type": "code",
   "execution_count": 8,
   "metadata": {
    "collapsed": false
   },
   "outputs": [
    {
     "name": "stdout",
     "output_type": "stream",
     "text": [
      "Functions Loaded!\n"
     ]
    }
   ],
   "source": [
    "def getData(file):\n",
    "    df = pd.read_csv(file,header=0)#, na_values=['unknown',999])\n",
    "    if file == \"data/data.csv\":\n",
    "        df['subscribed']=df['subscribed'].replace('yes',1,regex=True)\n",
    "        df['subscribed']=df['subscribed'].replace('no',0,regex=True)\n",
    "    \n",
    "    df[\"prev_contacts\"].ix[df[\"prev_contacts\"]>6]=6\n",
    "    del df['duration']\n",
    "    return df\n",
    "\n",
    " \n",
    "def splitTargetAndPredictors(df,targetColumn):\n",
    "    '''seperate the response variable'''\n",
    "    targetDf=pd.DataFrame(df[targetColumn])\n",
    "    del df[targetColumn]\n",
    "    return df,targetDf\n",
    "\n",
    "def binColumns(df):\n",
    "    threshold = 10\n",
    "    prevbins = [1, threshold,2*threshold,3*threshold]\n",
    "    x = np.array(df.prev_days)\n",
    "    df.prev_days = (np.digitize(x,prevbins))#.astype(object)\n",
    "    euro = np.arange(0.5,5.5,0.2)\n",
    "    x = np.array(df.euribor3m)\n",
    "    df.euribor3m = (np.digitize(x,euro))#.astype(object)\n",
    "\n",
    "    empvar = np.arange(-3.5,1.8,1)\n",
    "    x = np.array(df.emp_var_rate)\n",
    "    df.emp_var_rate = (np.digitize(x,empvar))#.astype(object)\n",
    "    \n",
    "    consf = np.arange(-50,-25,0.5)\n",
    "    x = np.array(df.cons_conf_idx)\n",
    "    df.cons_conf_idx = (np.digitize(x,consf))#.astype(object)\n",
    "    \n",
    "    consp = np.arange(90,100,1)\n",
    "    x = np.array(df.cons_price_idx)\n",
    "    df.cons_price_idx = (np.digitize(x,consp))#.astype(object)\n",
    "        \n",
    "    ageBins = [21,62,81]\n",
    "    x = np.array(df.age)\n",
    "    df.age = (np.digitize(x,ageBins))#.astype(object)\n",
    "    \n",
    "    camp = np.arange(1,56,10)\n",
    "    x = np.array(df.campaign)\n",
    "    df.campaign = (np.digitize(x,camp))#.astype(object)\n",
    "   \n",
    "    emplBins = np.arange(5000,5250,18)\n",
    "    x = np.array(df.nr_employed)\n",
    "    df.nr_employed=np.digitize(x,emplBins)#.astype(object)\n",
    "    \n",
    "    \n",
    "    return df\n",
    "    \n",
    "def addFeatures(df):\n",
    "    df.loc[(df['month']=='mar')|(df['month']=='apr')|(df['month']=='may'),\"season\"]=1#\"spring\"\n",
    "    df.loc[(df['month']=='jun')|(df['month']=='jul')|(df['month']=='aug'),\"season\"]=2#\"summer\"\n",
    "    df.loc[(df['month']=='sep')|(df['month']=='oct')|(df['month']=='nov'),\"season\"]=3#\"fall\"\n",
    "    df.loc[(df['month']=='dec')|(df['month']=='jan')|(df['month']=='feb'),\"season\"]=4#\"winter\"\n",
    "    return df\n",
    "\n",
    "\n",
    "class DataFrameImputer(TransformerMixin):\n",
    "\n",
    "    def __init__(self):\n",
    "        \"\"\"Impute missing values.\n",
    "\n",
    "        Columns of dtype object are imputed with the most frequent value \n",
    "        in column.\n",
    "\n",
    "        Columns of other types are imputed with mean of column.\n",
    "\n",
    "        \"\"\"\n",
    "    def fit(self, X, y=None):\n",
    "\n",
    "        self.fill = pd.Series([X[c].value_counts().index[0]\n",
    "            if X[c].dtype == np.dtype('O') else X[c].mean() for c in X],\n",
    "            index=X.columns)\n",
    "\n",
    "        return self\n",
    "\n",
    "    def transform(self, X, y=None):\n",
    "        return X.fillna(self.fill)\n",
    "\n",
    "def Main(file):\n",
    "    df=getData(file)\n",
    "    df=addFeatures(df)\n",
    "    df.season =df.season.astype(object)\n",
    "    df=binColumns(df)\n",
    "    df=imputeDF(df)\n",
    "    if file == \"data/data.csv\":\n",
    "        trainX,trainY=splitTargetAndPredictors(df.copy(),'subscribed')\n",
    "        return trainX, trainY, df\n",
    "    else:\n",
    "        holdout,holdoutID=splitTargetAndPredictors(df.copy(),'ID')\n",
    "        return holdout, holdoutID, df\n",
    "    \n",
    "def replaceTag(df):\n",
    "    df=df.replace(99999,np.nan,regex=True)\n",
    "    df['age']=df['age'].astype('object')\n",
    "    return df\n",
    "    \n",
    "def imputeDF(df):\n",
    "    df.job = df.job.replace('unknown','admin.',regex=True)\n",
    "    df.marital_status = df.marital_status.replace('unknown','married',regex=True)\n",
    "    df.education = df.education.replace('unknown','basic.9y',regex=True)\n",
    "\n",
    "    df.prev_days = df.prev_days.replace(999,0,regex=True)\n",
    "\n",
    "    df.housing = df.housing.replace('unknown','yes',regex=True)\n",
    "    df.loan = df.loan.replace('unknown','no',regex=True)\n",
    "    \n",
    "    return df\n",
    "    \n",
    "print(\"Functions Loaded!\")\n",
    "\n"
   ]
  },
  {
   "cell_type": "code",
   "execution_count": 9,
   "metadata": {
    "collapsed": false
   },
   "outputs": [
    {
     "name": "stdout",
     "output_type": "stream",
     "text": [
      "\n",
      "test: 0.112696004047\n",
      "\n",
      "train: 0.112638196401\n"
     ]
    }
   ],
   "source": [
    "split=0.3\n",
    "X_train, X_test, y_train, y_test = train_test_split(trainX, trainY, \n",
    "                                                    test_size=split,\n",
    "                                                    random_state=rng,\n",
    "                                                   stratify=trainY)\n",
    "\n",
    "print(\"\\ntest:\",((y_test.sum())/(y_test.shape[0]))[0])\n",
    "print(\"\\ntrain:\",((y_train.sum())/(y_train.shape[0]))[0])"
   ]
  },
  {
   "cell_type": "code",
   "execution_count": 10,
   "metadata": {
    "collapsed": false
   },
   "outputs": [],
   "source": [
    "rawDf=getData(\"data/data.csv\")\n",
    "trainData=tagMissingValues(rawDf)\n",
    "trainData=addFeatures(trainData)\n",
    "trainDataPrevDaysBinned=binColumns(trainData)\n",
    "trainX,trainY=splitTargetAndPredictors(trainDataPrevDaysBinned.copy(),'subscribed')"
   ]
  },
  {
   "cell_type": "markdown",
   "metadata": {},
   "source": [
    "### Feature selection\n",
    "Here we attempted to learn some mutual info score and apply feature selection.We tried using feature selection for top 10 features(['age','job','credit_default','contact','month','campaign','prev_contacts','prev_outcomes','emp_var_rate','nr_employed','euribor3m','cons_conf_idx']) but later only it only brought down the ROc-so low that in an attempted submission is was below first benchmark!\n",
    "\n",
    "* Our learning also prompted us to revisit teh way we were loading data hence the redefinition of certain functions above."
   ]
  },
  {
   "cell_type": "code",
   "execution_count": 11,
   "metadata": {
    "collapsed": false,
    "scrolled": false
   },
   "outputs": [
    {
     "data": {
      "text/plain": [
       "(0, 65)"
      ]
     },
     "execution_count": 11,
     "metadata": {},
     "output_type": "execute_result"
    },
    {
     "data": {
      "image/png": "[encoded data removed]",
      "text/plain": [
       "<matplotlib.figure.Figure at 0x1792fd40828>"
      ]
     },
     "metadata": {},
     "output_type": "display_data"
    }
   ],
   "source": [
    "trainXCopy=trainX.copy()\n",
    "trainXCopy['age']=trainXCopy['age'].astype('object')\n",
    "#trainX.info()\n",
    "trainXCopy=pd.get_dummies(trainXCopy)\n",
    "imputer = DataFrameImputer()\n",
    "XtrainImputed = imputer.fit_transform(trainXCopy)\n",
    "\n",
    "\n",
    "from sklearn.feature_selection import mutual_info_regression\n",
    "mi = mutual_info_regression(trainXCopy, trainY)\n",
    "inds = np.argsort(mi)\n",
    "plt.figure(figsize=(5, 30))\n",
    "plt.barh(np.arange(len(mi)), np.log(mi[inds] + 1))\n",
    "plt.yticks(np.arange(len(mi)), trainXCopy.columns[inds])\n",
    "plt.ylim(0, len(mi))"
   ]
  },
  {
   "cell_type": "code",
   "execution_count": 12,
   "metadata": {
    "collapsed": false
   },
   "outputs": [
    {
     "name": "stdout",
     "output_type": "stream",
     "text": [
      "\n",
      "Train subscribed=1 ratio: 11.2645422357 %\n",
      "\n",
      "Test subscribed=1 ratio: 11.2670713202 %\n",
      "Train Shape: (19770, 62)\n",
      "Test Shape: (13180, 62)\n"
     ]
    }
   ],
   "source": [
    "split=0.4\n",
    "X_train, X_test, y_train, y_test = train_test_split(trainX, trainY, \n",
    "                                                    test_size=split,\n",
    "                                                    random_state=rng,\n",
    "                                                   stratify=trainY)\n",
    "\n",
    "print(\"\\nTrain subscribed=1 ratio:\",100*(y_train.sum()/y_train.shape[0])[0],\"%\")\n",
    "print(\"\\nTest subscribed=1 ratio:\",100*(y_test.sum()/y_test.shape[0])[0],\"%\")\n",
    "\n",
    "imputer = DataFrameImputer()\n",
    "X_train = imputer.fit_transform(X_train)\n",
    "X_test = imputer.transform(X_test)\n",
    "\n",
    "X_train=pd.get_dummies(X_train)\n",
    "X_test=pd.get_dummies(X_test)\n",
    "\n",
    "print(\"Train Shape:\", X_train.shape)\n",
    "print(\"Test Shape:\", X_test.shape)"
   ]
  },
  {
   "cell_type": "code",
   "execution_count": 13,
   "metadata": {
    "collapsed": false
   },
   "outputs": [
    {
     "data": {
      "text/plain": [
       "GridSearchCV(cv=5, error_score='raise',\n",
       "       estimator=KNeighborsClassifier(algorithm='auto', leaf_size=30, metric='minkowski',\n",
       "           metric_params=None, n_jobs=1, n_neighbors=5, p=2,\n",
       "           weights='uniform'),\n",
       "       fit_params={}, iid=True, n_jobs=1,\n",
       "       param_grid={'n_neighbors': range(1, 20, 5)},\n",
       "       pre_dispatch='2*n_jobs', refit=True, return_train_score=True,\n",
       "       scoring=None, verbose=0)"
      ]
     },
     "execution_count": 13,
     "metadata": {},
     "output_type": "execute_result"
    }
   ],
   "source": [
    "##using  grid search to learn best params for KNN\n",
    "np.random.seed(seed)\n",
    "param_grid = {'n_neighbors': range(1,20,5)}\n",
    "gridKN = GridSearchCV(KNeighborsClassifier(), param_grid=param_grid, cv=5);\n",
    "gridKN.fit(X_train, y_train['subscribed'])\n"
   ]
  },
  {
   "cell_type": "markdown",
   "metadata": {},
   "source": [
    "### MODEL SELECTION\n",
    "For the purpose of selecting non tree based models for final ensemble,we looked at many classifiers.\n",
    "\n",
    "1) KNeighborsClassifier\n",
    "\n",
    "2) GaussianNB\n",
    "\n",
    "3) LinearDiscriminantAnalysis\n",
    "\n",
    "4) MLPClassifier\n",
    "\n",
    "5) LogisticRegression\n",
    "\n",
    "As seen in cross validation results,KNN gave good accuraccy but very low ROC with various parameter tuning.LDA and logistic gave decent results.\n",
    "\n",
    "For the purpose of the ensemble model at the end,we have chose logistic and gaussian naive bayes.GNB does not have the best score here,but when present in voting classifier,it gave good results.\n",
    "\n",
    "Also we have commented out grid search on MLPClassifier due to long running time.That said,it did not add any significat value to our model.\n"
   ]
  },
  {
   "cell_type": "code",
   "execution_count": 14,
   "metadata": {
    "collapsed": false
   },
   "outputs": [],
   "source": [
    "###HAD TO COMMENT OUT DUE TO LONG RUN\n",
    "param_grid = {'alpha': np.arange(0.1,5,0.1)}\n",
    "gridMLP = GridSearchCV(MLPClassifier(), param_grid=param_grid, cv=5);\n",
    "#gridMLP.fit(X_train, y_train['subscribed'])\n",
    "##Best param=.4\n"
   ]
  },
  {
   "cell_type": "code",
   "execution_count": 15,
   "metadata": {
    "collapsed": false
   },
   "outputs": [
    {
     "name": "stdout",
     "output_type": "stream",
     "text": [
      "Best KNeighborsClassifier Param n_neighbors :  16\n",
      "==============================\n",
      "KNeighborsClassifier\n",
      "****Results****\n",
      "Accuracy: 89.6282%\n",
      "ROC Accuracy: 77.7096%\n",
      "cross validation: 0.35 (+/- 0.04)\n",
      "==============================\n",
      "==============================\n",
      "GaussianNB\n",
      "****Results****\n",
      "Accuracy: 83.4977%\n",
      "ROC Accuracy: 78.3586%\n",
      "cross validation: 0.41 (+/- 0.05)\n",
      "==============================\n",
      "==============================\n",
      "LinearDiscriminantAnalysis\n",
      "****Results****\n",
      "Accuracy: 89.0440%\n",
      "ROC Accuracy: 79.5715%\n",
      "cross validation: 0.43 (+/- 0.05)\n",
      "==============================\n",
      "==============================\n",
      "LogisticRegression\n",
      "****Results****\n",
      "Accuracy: 90.0076%\n",
      "ROC Accuracy: 79.8022%\n",
      "cross validation: 0.33 (+/- 0.05)\n",
      "==============================\n"
     ]
    }
   ],
   "source": [
    "print(\"Best KNeighborsClassifier Param n_neighbors : \", gridKN.best_params_['n_neighbors'])\n",
    "classifiers=[\n",
    "            KNeighborsClassifier(n_neighbors=gridKN.best_params_['n_neighbors']),\n",
    "            GaussianNB(),\n",
    "            LinearDiscriminantAnalysis(),\n",
    "            #MLPClassifier(alpha=gridMLP.best_params_['alpha']),\n",
    "            LogisticRegression()\n",
    "            ]\n",
    "\n",
    "for clf in classifiers:\n",
    "        clf.fit(X_train, y_train)\n",
    "        name = clf.__class__.__name__\n",
    "\n",
    "        print(\"=\"*30)\n",
    "        print(name)\n",
    "\n",
    "        print('****Results****')\n",
    "        train_predictions = clf.predict(X_test)\n",
    "        train_predicproba = clf.predict_proba(X_test)[:,1]\n",
    "        acc = accuracy_score(y_test, train_predictions)\n",
    "        roc= roc_auc_score(y_test['subscribed'], train_predicproba)\n",
    "        \n",
    "        crossvalscore=cross_val_score(clf, X_train, y_train['subscribed'], cv=10, scoring='f1') ## without Scaling\n",
    "        \n",
    "        print(\"Accuracy: {:.4%}\".format(acc))  \n",
    "        print(\"ROC Accuracy: {:.4%}\".format(roc))  \n",
    "        print(\"cross validation: %0.2f (+/- %0.2f)\" % (crossvalscore.mean(), \n",
    "                                                       crossvalscore.std() * 2))\n",
    "        print(\"=\"*30)\n",
    "    "
   ]
  },
  {
   "cell_type": "markdown",
   "metadata": {},
   "source": [
    "# Step3 - ModelSet2\n"
   ]
  },
  {
   "cell_type": "markdown",
   "metadata": {},
   "source": [
    "### Feature Engineering\n",
    "\n",
    "1) Drop duration feature from use\n",
    "\n",
    "2) We found out after multiple trials and error that unknown themselves behave as category.Hence we attempted to learn model parameters with and without imputing them.\n",
    "\n",
    "3) Also we tried derived new features from existing features-such as attaching season from months after learning relatship shown in the plots above.\n",
    "\n",
    "4) Bin features such as prev_days,emp_var,campaign,employees etc. into approriate columns.\n",
    "\n",
    "5) After this we were as such left with only handful continuous columns.\n",
    "\n",
    "6) We also tested various scaling techniques such as - minmax scaler,standard scalre and crossvalidated results.It appearsed that Min max scaler gave best results.\n",
    "\n",
    "\n"
   ]
  },
  {
   "cell_type": "markdown",
   "metadata": {},
   "source": [
    "### Feature selection\n",
    "Here we attempted to learn some mutual info score and apply feature selection.We tried using feature selection for top 10 features(['age','job','credit_default','contact','month','campaign','prev_contacts','prev_outcomes','emp_var_rate','nr_employed','euribor3m','cons_conf_idx']) but later only it only brought down the ROc-so low that in an attempted submission is was below first benchmark!\n",
    "\n",
    "* Our learning also prompted us to revisit teh way we were loading data hence the redefinition of certain functions above."
   ]
  },
  {
   "cell_type": "markdown",
   "metadata": {},
   "source": [
    "### MODEL SELECTION\n",
    "For the purpose of selecting non tree based models for final ensemble,we looked at many classifiers.\n",
    "\n",
    "1) GradientBoostingClassifier\n",
    "2) AdaBoostClassifier\n",
    "3) RandomForestClassifier\n",
    "4) DecisionTreeClassifier\n",
    "5) ExtraTreesClassifier\n",
    "\n",
    "In this section,we tested various tree based models and boosting techniques.Our learning on best params selected based on CV scores suggested that except for decision trees,these techniques give similar results.\n",
    "\n",
    "For the purpose of ensemble model,we actually tried running each of these along with ExtraTreesClassifier that run on decision trees which gave us significant results.\n",
    "\n",
    "CV results reported in following cells.\n"
   ]
  },
  {
   "cell_type": "code",
   "execution_count": 16,
   "metadata": {
    "collapsed": false
   },
   "outputs": [
    {
     "name": "stdout",
     "output_type": "stream",
     "text": [
      "Best DecisionTreeClassifier Param max_depth:  3\n"
     ]
    }
   ],
   "source": [
    "np.random.seed(seed)\n",
    "param_grid = {'max_depth': range(1,20,2)}\n",
    "gridDT = GridSearchCV(DecisionTreeClassifier(), param_grid=param_grid, cv=5);\n",
    "gridDT.fit(X_train, y_train['subscribed'])\n",
    "print(\"Best DecisionTreeClassifier Param max_depth: \", gridDT.best_params_['max_depth'])"
   ]
  },
  {
   "cell_type": "code",
   "execution_count": 17,
   "metadata": {
    "collapsed": false
   },
   "outputs": [
    {
     "name": "stdout",
     "output_type": "stream",
     "text": [
      "Best RandomForestClassifier Param n_estimators:  13\n"
     ]
    }
   ],
   "source": [
    "np.random.seed(seed)\n",
    "param_grid = {'n_estimators': range(1,20,2)}\n",
    "gridRF = GridSearchCV(RandomForestClassifier(), param_grid=param_grid, cv=5);\n",
    "gridRF.fit(X_train, y_train['subscribed'])\n",
    "print(\"Best RandomForestClassifier Param n_estimators: \", gridRF.best_params_['n_estimators'])  \n",
    "\n"
   ]
  },
  {
   "cell_type": "markdown",
   "metadata": {},
   "source": [
    "#### Note that below,the classifiers have been further manually tuned to give better results.we have only put in teh best parameters selected here along with their CV scores!"
   ]
  },
  {
   "cell_type": "code",
   "execution_count": 18,
   "metadata": {
    "collapsed": false
   },
   "outputs": [
    {
     "name": "stdout",
     "output_type": "stream",
     "text": [
      "==============================\n",
      "GradientBoostingClassifier\n",
      "****Results****\n",
      "Accuracy: 90.0000%\n",
      "ROC Accuracy: 79.5952%\n",
      "==============================\n",
      "==============================\n",
      "AdaBoostClassifier\n",
      "****Results****\n",
      "Accuracy: 89.9621%\n",
      "ROC Accuracy: 79.8384%\n",
      "==============================\n",
      "==============================\n",
      "RandomForestClassifier\n",
      "****Results****\n",
      "Accuracy: 89.9469%\n",
      "ROC Accuracy: 79.9213%\n",
      "==============================\n",
      "==============================\n",
      "ExtraTreesClassifier\n",
      "****Results****\n",
      "Accuracy: 89.9317%\n",
      "ROC Accuracy: 80.0134%\n",
      "==============================\n",
      "==============================\n",
      "DecisionTreeClassifier\n",
      "****Results****\n",
      "Accuracy: 89.9697%\n",
      "ROC Accuracy: 76.0215%\n",
      "==============================\n"
     ]
    }
   ],
   "source": [
    "classifiers=[GradientBoostingClassifier(n_estimators =20,\n",
    "                                     learning_rate=0.1,\n",
    "                                     max_depth=3,subsample=0.9,random_state=20),\n",
    "            AdaBoostClassifier(n_estimators=270,random_state=10),\n",
    "            RandomForestClassifier(n_estimators=180,\n",
    "                                       max_depth=8,\n",
    "                                       random_state=20),\n",
    "            ExtraTreesClassifier(n_estimators=100, max_depth=7,\n",
    "                                               min_samples_split=2, \n",
    "                                               random_state=20),\n",
    "             DecisionTreeClassifier(max_depth=gridDT.best_params_['max_depth'])\n",
    "            ]\n",
    "for clf in classifiers:\n",
    "        clf.fit(X_train, y_train)\n",
    "        name = clf.__class__.__name__\n",
    "\n",
    "        print(\"=\"*30)\n",
    "        print(name)\n",
    "\n",
    "        print('****Results****')\n",
    "        train_predictions = clf.predict(X_test)\n",
    "        train_predicproba = clf.predict_proba(X_test)[:,1]\n",
    "        acc = accuracy_score(y_test, train_predictions)\n",
    "        roc= roc_auc_score(y_test['subscribed'], train_predicproba)\n",
    "        \n",
    "        #crossvalscore=cross_val_score(clf, X_train, y_train['subscribed'], cv=10, scoring='f1') ## without Scaling\n",
    "        \n",
    "        print(\"Accuracy: {:.4%}\".format(acc))  \n",
    "        print(\"ROC Accuracy: {:.4%}\".format(roc))  \n",
    "        #print(\"cross validation: %0.2f (+/- %0.2f)\" % (crossvalscore.mean(),crossvalscore.std() * 2))\n",
    "        print(\"=\"*30)\n",
    "    "
   ]
  },
  {
   "cell_type": "markdown",
   "metadata": {},
   "source": [
    "# Step4 - Ensemble \n",
    "\n"
   ]
  },
  {
   "cell_type": "markdown",
   "metadata": {},
   "source": [
    "### Ensemble 1-ExtraTreesClassifier\n",
    "\n",
    "Here we learnt ExtraTreesClassifier using the best params learnt for decision tree.Infact this was the entry that hgave us significant gain both in ROC and also on public leadbord."
   ]
  },
  {
   "cell_type": "code",
   "execution_count": 19,
   "metadata": {
    "collapsed": false,
    "scrolled": false
   },
   "outputs": [
    {
     "name": "stdout",
     "output_type": "stream",
     "text": [
      "==============================\n",
      "ExtraTreesClassifier\n",
      "****Results****\n",
      "Accuracy: 89.9317%\n",
      "ROC Accuracy: 80.0134%\n",
      "==============================\n"
     ]
    }
   ],
   "source": [
    "clf=ExtraTreesClassifier(n_estimators=100, max_depth=7,\n",
    "                                               min_samples_split=2, \n",
    "                                               random_state=20)\n",
    "clf.fit(X_train, y_train)\n",
    "name = clf.__class__.__name__\n",
    "\n",
    "print(\"=\"*30)\n",
    "print(name)\n",
    "\n",
    "print('****Results****')\n",
    "train_predictions = clf.predict(X_test)\n",
    "train_predicproba = clf.predict_proba(X_test)[:,1]\n",
    "acc = accuracy_score(y_test, train_predictions)\n",
    "roc= roc_auc_score(y_test['subscribed'], train_predicproba)\n",
    "\n",
    "#crossvalscore=cross_val_score(clf, X_train, y_train['subscribed'], cv=10, scoring='f1') ## without Scaling\n",
    "\n",
    "print(\"Accuracy: {:.4%}\".format(acc))  \n",
    "print(\"ROC Accuracy: {:.4%}\".format(roc))  \n",
    "#print(\"cross validation: %0.2f (+/- %0.2f)\" % (crossvalscore.mean(),crossvalscore.std() * 2))\n",
    "print(\"=\"*30)"
   ]
  },
  {
   "cell_type": "markdown",
   "metadata": {},
   "source": [
    "### Ensemble 2 - Voting classifiers\n",
    "\n",
    "1) Here we used a voting classifier with additional parameter tuning.Again it returned good ROC scores and returned good ROC scores as reported below.\n",
    "\n",
    "2) Below are two of the many attempts with voting classifier.Note that we also tried a roue where we did not perform any feature selection but just applied min max scaler on continuous variables and one hot encoding on categoriacal variables with unknown appearing as a new category and not a missing value.\n",
    "\n",
    "3) Voting classifier1- Logistic regression,GaussianNB,GradientBoostingClassifier,ExtraTreeClassifier with variable weights.\n",
    "\n",
    "4) Additionally we also tried inclusing imbalanced learning-using over sampling and under sampling but results only worsened.We have keept the pipeline for make_imb_pipeline intact."
   ]
  },
  {
   "cell_type": "code",
   "execution_count": 20,
   "metadata": {
    "collapsed": false
   },
   "outputs": [
    {
     "name": "stdout",
     "output_type": "stream",
     "text": [
      "\n",
      "test: 0.112696004047\n",
      "\n",
      "train: 0.112638196401\n",
      "finished fit\n",
      "finished predict\n",
      "Accuracy: 82.9843%\n",
      "ROC Accuracy: 81.2173%\n"
     ]
    }
   ],
   "source": [
    "trainX,trainY, train=Main(\"data/data.csv\")\n",
    "holdoutTrain, holdoutID, holdout = Main(\"data/holdout.csv\")\n",
    "\n",
    "trainX=pd.get_dummies(trainX)\n",
    "holdoutTrain=pd.get_dummies(holdoutTrain)\n",
    "del trainX['credit_default_yes']\n",
    "\n",
    "split=0.3\n",
    "X_train, X_test, y_train, y_test = train_test_split(trainX, trainY, \n",
    "                                                    test_size=split,\n",
    "                                                    random_state=rng,\n",
    "                                                   stratify=trainY)\n",
    "\n",
    "print(\"\\ntest:\",((y_test.sum())/(y_test.shape[0]))[0])\n",
    "print(\"\\ntrain:\",((y_train.sum())/(y_train.shape[0]))[0])\n",
    "\n",
    "scale = MinMaxScaler()\n",
    "\n",
    "from sklearn.ensemble import ExtraTreesClassifier\n",
    "np.random.seed(seed)\n",
    "lr = LogisticRegression(random_state=rng)\n",
    "gnb = GaussianNB()\n",
    "boost=GradientBoostingClassifier(n_estimators =185)\n",
    "ada=AdaBoostClassifier(n_estimators=270)\n",
    "randomforestBest=RandomForestClassifier(n_estimators=100,\n",
    "                                       warm_start=False,\n",
    "                                       verbose =False,\n",
    "                                       max_depth=15,\n",
    "                                       max_features=20)\n",
    "\n",
    "extf=ExtraTreesClassifier(n_estimators=100, max_depth=7,\n",
    "                                               min_samples_split=2, \n",
    "                                               random_state=0)\n",
    "mlp=MLPClassifier(alpha=0.15),\n",
    "eclf = VotingClassifier(estimators=[\n",
    "                                    ('lr', lr),\n",
    "                                     ('gnb', gnb), \n",
    "                                    ('boost', boost),\n",
    "                                    ('extf',extf)\n",
    "],\n",
    "                        voting='soft',\n",
    "                        weights=[15, 0, 15,10],##81.2582%\n",
    "                        n_jobs=-1)\n",
    "clf=eclf.fit(X_train, y_train)\n",
    "rus = RandomUnderSampler(replacement=False)\n",
    "pipe = make_imb_pipeline(scale,\n",
    "                         RandomOverSampler(random_state=24),\n",
    "                         eclf).fit(X_train, y_train)\n",
    "print(\"finished fit\")\n",
    "test_predicted=pipe.predict(X_test)\n",
    "print(\"finished predict\")\n",
    "clf_probab=pipe.predict_proba(X_test)[:,1]\n",
    "\n",
    "\n",
    "acc = accuracy_score(y_test, test_predicted)\n",
    "roc= roc_auc_score(y_test, clf_probab)\n",
    "\n",
    "print(\"Accuracy: {:.4%}\".format(acc))  \n",
    "print(\"ROC Accuracy: {:.4%}\".format(roc)) \n"
   ]
  },
  {
   "cell_type": "markdown",
   "metadata": {},
   "source": [
    "Voting classifier2- Logistic regression, ExtraTreeClassifier taht intenally uses decision trees."
   ]
  },
  {
   "cell_type": "code",
   "execution_count": 21,
   "metadata": {
    "collapsed": false
   },
   "outputs": [
    {
     "name": "stdout",
     "output_type": "stream",
     "text": [
      "finished fit\n",
      "finished predict\n",
      "Accuracy: 82.1447%\n",
      "ROC Accuracy: 81.2304%\n"
     ]
    }
   ],
   "source": [
    "eclf = VotingClassifier(estimators=[\n",
    "                                    ('lr', lr),\n",
    "                                     ('gnb', gnb), \n",
    "                                    ('boost', boost),\n",
    "                                    ('extf',extf)\n",
    "],\n",
    "                        voting='soft',\n",
    "                        weights=[15, 0, 0,10],##81.2582%\n",
    "                        n_jobs=-1)\n",
    "clf=eclf.fit(X_train, y_train)\n",
    "rus = RandomUnderSampler(replacement=False)\n",
    "pipe = make_imb_pipeline(scale,\n",
    "                         RandomOverSampler(random_state=24),\n",
    "                         eclf).fit(X_train, y_train)\n",
    "print(\"finished fit\")\n",
    "test_predicted=pipe.predict(X_test)\n",
    "print(\"finished predict\")\n",
    "clf_probab=pipe.predict_proba(X_test)[:,1]\n",
    "\n",
    "\n",
    "acc = accuracy_score(y_test, test_predicted)\n",
    "roc= roc_auc_score(y_test, clf_probab)\n",
    "\n",
    "print(\"Accuracy: {:.4%}\".format(acc))  \n",
    "print(\"ROC Accuracy: {:.4%}\".format(roc)) \n"
   ]
  },
  {
   "cell_type": "markdown",
   "metadata": {},
   "source": [
    "### ENSEMBLE 3-StackingClassifier"
   ]
  },
  {
   "cell_type": "code",
   "execution_count": 22,
   "metadata": {
    "collapsed": false
   },
   "outputs": [
    {
     "name": "stdout",
     "output_type": "stream",
     "text": [
      "finished fit\n",
      "finished predict\n",
      "Accuracy: 82.1447%\n",
      "ROC Accuracy: 81.2304%\n"
     ]
    }
   ],
   "source": [
    "\n",
    "sclf = StackingClassifier(classifiers=[gnb, boost, extf], \n",
    "                          meta_classifier=lr)\n",
    "                          \n",
    "\n",
    "clf=sclf.fit(X_train, y_train)\n",
    "rus = RandomUnderSampler(replacement=False)\n",
    "pipe = make_imb_pipeline(scale,\n",
    "                         RandomOverSampler(random_state=24),\n",
    "                         eclf).fit(X_train, y_train)\n",
    "print(\"finished fit\")\n",
    "test_predicted=pipe.predict(X_test)\n",
    "print(\"finished predict\")\n",
    "clf_probab=pipe.predict_proba(X_test)[:,1]\n",
    "\n",
    "\n",
    "acc = accuracy_score(y_test, test_predicted)\n",
    "roc= roc_auc_score(y_test, clf_probab)\n",
    "\n",
    "print(\"Accuracy: {:.4%}\".format(acc))  \n",
    "print(\"ROC Accuracy: {:.4%}\".format(roc)) \n",
    "\n"
   ]
  },
  {
   "cell_type": "markdown",
   "metadata": {},
   "source": [
    "# FINAL MODEL"
   ]
  },
  {
   "cell_type": "code",
   "execution_count": 23,
   "metadata": {
    "collapsed": false
   },
   "outputs": [
    {
     "name": "stdout",
     "output_type": "stream",
     "text": [
      "Functions Loaded!\n"
     ]
    }
   ],
   "source": [
    "def getData(file):\n",
    "    df = pd.read_csv(file,header=0)#, na_values=['unknown',999])\n",
    "    if file == \"data/data.csv\":\n",
    "        df['subscribed']=df['subscribed'].replace('yes',1,regex=True)\n",
    "        df['subscribed']=df['subscribed'].replace('no',0,regex=True)\n",
    "    \n",
    "#     df['education']=df['education'].replace('basic.4y',\"basic\",regex=True)\n",
    "#     df['education']=df['education'].replace('basic.6y',\"basic\",regex=True)\n",
    "#     df['education']=df['education'].replace('basic.9y',\"basic\",regex=True)\n",
    "#     df[\"campaign\"].ix[df[\"campaign\"]>15]=15\n",
    "    df[\"prev_contacts\"].ix[df[\"prev_contacts\"]>6]=6\n",
    "    \n",
    "#     df.prev_days=df.prev_days.replace(np.nan,0,regex=True)\n",
    "#     del df['prev_days']\n",
    "    del df['duration']\n",
    "    return df\n",
    "\n",
    " \n",
    "def splitTargetAndPredictors(df,targetColumn):\n",
    "    '''seperate the response variable'''\n",
    "    targetDf=pd.DataFrame(df[targetColumn])\n",
    "    del df[targetColumn]\n",
    "    return df,targetDf\n",
    "\n",
    "def binColumns(df):\n",
    "    threshold = 10\n",
    "    prevbins = [1, threshold,2*threshold,3*threshold]\n",
    "#     df.prev_days=df.prev_days.replace(999,0,regex=True)\n",
    "    x = np.array(df.prev_days)\n",
    "    df.prev_days = (np.digitize(x,prevbins))#.astype(object)\n",
    "#     df.prev_days=df.prev_days.replace(4,np.nan,regex=True)\n",
    "\n",
    "#     prevcon = np.arange(1,7,2)\n",
    "#     x = np.array(df.prev_contacts)\n",
    "#     df.prev_contacts = (np.digitize(x,prevcon))#.astype(object)\n",
    "    \n",
    "    euro = np.arange(0.5,5.5,0.2)\n",
    "    x = np.array(df.euribor3m)\n",
    "    df.euribor3m = (np.digitize(x,euro))#.astype(object)\n",
    "\n",
    "    empvar = np.arange(-3.5,1.8,1)\n",
    "    x = np.array(df.emp_var_rate)\n",
    "    df.emp_var_rate = (np.digitize(x,empvar))#.astype(object)\n",
    "    \n",
    "    consf = np.arange(-50,-25,0.5)\n",
    "    x = np.array(df.cons_conf_idx)\n",
    "    df.cons_conf_idx = (np.digitize(x,consf))#.astype(object)\n",
    "    \n",
    "    consp = np.arange(90,100,1)\n",
    "    x = np.array(df.cons_price_idx)\n",
    "    df.cons_price_idx = (np.digitize(x,consp))#.astype(object)\n",
    "        \n",
    "    ageBins = [21,62,81]\n",
    "    x = np.array(df.age)\n",
    "    df.age = (np.digitize(x,ageBins))#.astype(object)\n",
    "    \n",
    "    camp = np.arange(1,56,10)\n",
    "    x = np.array(df.campaign)\n",
    "    df.campaign = (np.digitize(x,camp))#astype(object)\n",
    "   \n",
    "    emplBins = np.arange(5000,5250,18)\n",
    "    x = np.array(df.nr_employed)\n",
    "    df.nr_employed=np.digitize(x,emplBins)#.astype(object)\n",
    "    \n",
    "    \n",
    "    return df\n",
    "    \n",
    "def addFeatures(df):\n",
    "    df.loc[(df['month']=='mar')|(df['month']=='apr')|(df['month']=='may'),\"season\"]=1#\"spring\"\n",
    "    df.loc[(df['month']=='jun')|(df['month']=='jul')|(df['month']=='aug'),\"season\"]=2#\"summer\"\n",
    "    df.loc[(df['month']=='sep')|(df['month']=='oct')|(df['month']=='nov'),\"season\"]=3#\"fall\"\n",
    "    df.loc[(df['month']=='dec')|(df['month']=='jan')|(df['month']=='feb'),\"season\"]=4#\"winter\"\n",
    "    return df\n",
    "\n",
    "def Plot(df,cat = \"category\"):\n",
    "     \n",
    "    if cat == \"cagetory\":\n",
    "        fig_size = plt.rcParams[\"figure.figsize\"]\n",
    "        fig_size[0] = 14\n",
    "        fig_size[1] = 8\n",
    "        cols = [col for col in df.columns if col not in Continuous_cols and col!=\"subscribed\"]\n",
    "        for col in cols:\n",
    "            ptl = df.groupby([col])['subscribed'].mean()\n",
    "            ptl = pd.DataFrame(ptl,index=df[col].unique())\n",
    "            ptl = ptl.sort(\"subscribed\")\n",
    "            ptl.plot.barh()\n",
    "            plt.title(col+ \" vs subscribed\")\n",
    "    else:\n",
    "        fig_size = plt.rcParams[\"figure.figsize\"]\n",
    "        fig_size[0] = 14\n",
    "        fig_size[1] = 8\n",
    "        \n",
    "        cols = [col for col in df.columns if col in Continuous_cols and col!=\"subscribed\"]\n",
    "\n",
    "        for col in cols:\n",
    "            ptl = df.groupby([col])['subscribed'].mean()\n",
    "            ptl = pd.DataFrame(ptl)\n",
    "            ptl.plot(color='r')\n",
    "            if col == \"campaign\":\n",
    "                plt.xticks(np.arange(0,16,2))\n",
    "            plt.title(col+ \" vs subscribed\")\n",
    "    return None\n",
    "\n",
    "class DataFrameImputer(TransformerMixin):\n",
    "\n",
    "    def __init__(self):\n",
    "        \"\"\"Impute missing values.\n",
    "\n",
    "        Columns of dtype object are imputed with the most frequent value \n",
    "        in column.\n",
    "\n",
    "        Columns of other types are imputed with mean of column.\n",
    "\n",
    "        \"\"\"\n",
    "    def fit(self, X, y=None):\n",
    "\n",
    "        self.fill = pd.Series([X[c].value_counts().index[0]\n",
    "            if X[c].dtype == np.dtype('O') else X[c].mean() for c in X],\n",
    "            index=X.columns)\n",
    "\n",
    "        return self\n",
    "\n",
    "    def transform(self, X, y=None):\n",
    "        return X.fillna(self.fill)\n",
    "\n",
    "def Main(file):\n",
    "    df=getData(file)\n",
    "    df=addFeatures(df)\n",
    "    df.season =df.season.astype(object)\n",
    "    df=binColumns(df)\n",
    "    df=imputeDF(df)\n",
    "#     for col in ColDel:\n",
    "#         del df[col]\n",
    "    if file == \"data/data.csv\":\n",
    "        trainX,trainY=splitTargetAndPredictors(df.copy(),'subscribed')\n",
    "        return trainX, trainY, df\n",
    "    else:\n",
    "        holdout,holdoutID=splitTargetAndPredictors(df.copy(),'ID')\n",
    "        return holdout, holdoutID, df\n",
    "    \n",
    "def replaceTag(df):\n",
    "    df=df.replace(99999,np.nan,regex=True)\n",
    "    df['age']=df['age'].astype('object')\n",
    "    return df\n",
    "    \n",
    "def imputeDF(df):\n",
    "    df.job = df.job.replace('unknown','admin.',regex=True)\n",
    "    df.marital_status = df.marital_status.replace('unknown','married',regex=True)\n",
    "    df.education = df.education.replace('unknown','basic.9y',regex=True)\n",
    "\n",
    "    df.prev_days = df.prev_days.replace(999,0,regex=True)\n",
    "\n",
    "    df.housing = df.housing.replace('unknown','yes',regex=True)\n",
    "    df.loan = df.loan.replace('unknown','no',regex=True)\n",
    "    \n",
    "    return df\n",
    "    \n",
    "print(\"Functions Loaded!\")\n",
    "\n",
    "\n"
   ]
  },
  {
   "cell_type": "code",
   "execution_count": 24,
   "metadata": {
    "collapsed": true
   },
   "outputs": [],
   "source": [
    "split=0.25\n",
    "seed = 0"
   ]
  },
  {
   "cell_type": "code",
   "execution_count": 25,
   "metadata": {
    "collapsed": true
   },
   "outputs": [],
   "source": [
    "##~~~~~~~~~~~~~~~~~~~~~~~~~~~~~ Data Type YPRED 1~~~~~~~~~~~~~~~~~~~~~~~~~~~\n",
    "## Getting the data after some cleaning ##\n",
    "\n",
    "dfx,dfy, train=Main(\"data/data.csv\")\n",
    "hold, holdID, holdout = Main(\"data/holdout.csv\")\n",
    "\n",
    "dfx=pd.get_dummies(dfx)\n",
    "hold=pd.get_dummies(hold)\n",
    "del dfx['credit_default_yes']\n",
    "\n",
    "\n",
    "X_train, X_test, y_train, y_test = train_test_split(dfx, dfy, \n",
    "                                                    test_size=split,\n",
    "                                                    random_state=seed,\n",
    "                                                   stratify=dfy)"
   ]
  },
  {
   "cell_type": "code",
   "execution_count": 26,
   "metadata": {
    "collapsed": true
   },
   "outputs": [],
   "source": [
    "##~~~~~~~~~~~~~~~~~~~~~~~~~~~~~ Data Type YPRED 2~~~~~~~~~~~~~~~~~~~~~~~~~~~\n",
    "## Getting the cleaned data and selecting some good features (features were selected based on their overall performance \n",
    "## cross validation on the model)\n",
    "GoodFeatures = ['age','job','credit_default','contact','month','campaign','prev_contacts','prev_outcomes','emp_var_rate',\n",
    "               'nr_employed','euribor3m','cons_conf_idx']\n",
    "\n",
    "dfx2,dfy2, train2=Main(\"data/data.csv\")\n",
    "hold2, holdID, holdout2 = Main(\"data/holdout.csv\")\n",
    "dfx2 = dfx2[GoodFeatures]\n",
    "hold2 = hold2[GoodFeatures]\n",
    "\n",
    "\n",
    "dfx2=pd.get_dummies(dfx2)\n",
    "hold2=pd.get_dummies(hold2)\n",
    "del dfx2['credit_default_yes']\n",
    "\n",
    "X_train2, X_test2, y_train2, y_test2 = train_test_split(dfx2, dfy2, \n",
    "                                                    test_size=split,\n",
    "                                                    random_state=seed,\n",
    "                                                   stratify=dfy2)"
   ]
  },
  {
   "cell_type": "code",
   "execution_count": 27,
   "metadata": {
    "collapsed": true
   },
   "outputs": [],
   "source": [
    "##~~~~~~~~~~~~~~~~~~~~~~~~~~~~~ Data Type YPRED 3~~~~~~~~~~~~~~~~~~~~~~~~~~~\n",
    "## Getting the raw data without cleaning. This is essentially useful for tree-based models.\n",
    "\n",
    "df3 = pd.read_csv(\"data/data.csv\")\n",
    "df3['subscribed']=df3['subscribed'].replace('yes',1,regex=True)\n",
    "df3['subscribed']=df3['subscribed'].replace('no',0,regex=True)\n",
    "\n",
    "hold3 = pd.read_csv(\"data/holdout.csv\")\n",
    "\n",
    "dfy3 = df3['subscribed']\n",
    "del df3['duration']\n",
    "del df3['subscribed']\n",
    "dfx3 = df3\n",
    "del hold3['duration']\n",
    "del hold3['ID']\n",
    "\n",
    "dfx3 = pd.get_dummies(dfx3)\n",
    "hold3 = pd.get_dummies(hold3)\n",
    "del dfx3['credit_default_yes']\n",
    "\n",
    "\n",
    "X_train3, X_test3, y_train3, y_test3 = train_test_split(dfx3, dfy3, \n",
    "                                                    test_size=split,\n",
    "                                                    random_state=seed,\n",
    "                                                   stratify=dfy3)"
   ]
  },
  {
   "cell_type": "code",
   "execution_count": 28,
   "metadata": {
    "collapsed": true
   },
   "outputs": [],
   "source": [
    "##~~~~~~~~~~~~~~~~~~~~~~~~~~~~~ Data Type YPRED 4~~~~~~~~~~~~~~~~~~~~~~~~~~~\n",
    "## Getting the raw data without cleaning and subsetting it with some selected features.\n",
    "\n",
    "df4 = pd.read_csv(\"data/data.csv\")\n",
    "df4['subscribed']=df4['subscribed'].replace('yes',1,regex=True)\n",
    "df4['subscribed']=df4['subscribed'].replace('no',0,regex=True)\n",
    "\n",
    "hold4 = pd.read_csv(\"data/holdout.csv\")\n",
    "\n",
    "dfy4 = df4['subscribed']\n",
    "del df4['duration']\n",
    "del df4['subscribed']\n",
    "dfx4 = df4\n",
    "del hold4['duration']\n",
    "del hold4['ID']\n",
    "\n",
    "GoodFeatures = ['age','job','credit_default','contact','month','campaign','prev_contacts','prev_outcomes','emp_var_rate',\n",
    "               'nr_employed','euribor3m','cons_conf_idx']\n",
    "\n",
    "dfx4 = dfx4[GoodFeatures]\n",
    "hold4 = hold4[GoodFeatures]\n",
    "\n",
    "dfx4 = pd.get_dummies(dfx4)\n",
    "hold4 = pd.get_dummies(hold4)\n",
    "del dfx4['credit_default_yes']\n",
    "\n",
    "X_train4, X_test4, y_train4, y_test4 = train_test_split(dfx4, dfy4, \n",
    "                                                    test_size=split,\n",
    "                                                    random_state=seed,\n",
    "                                                   stratify=dfy4)"
   ]
  },
  {
   "cell_type": "code",
   "execution_count": 29,
   "metadata": {
    "collapsed": false
   },
   "outputs": [
    {
     "data": {
      "text/plain": [
       "(0, 15)"
      ]
     },
     "execution_count": 29,
     "metadata": {},
     "output_type": "execute_result"
    },
    {
     "data": {
      "image/png": "[encoded data removed]",
      "text/plain": [
       "<matplotlib.figure.Figure at 0x1792dbc3518>"
      ]
     },
     "metadata": {},
     "output_type": "display_data"
    }
   ],
   "source": [
    "## We obtained some of the good features using f_regression rankings ##\n",
    "\n",
    "F, p = f_regression(dfx3, dfy3)\n",
    "\n",
    "top_n = 15\n",
    "inds = np.argsort(F)\n",
    "plt.figure(figsize=(5, 15))\n",
    "plt.barh(np.arange(top_n), F[inds[-top_n:]])\n",
    "plt.yticks(np.arange(top_n), dfx3.columns[inds[-top_n:]])\n",
    "plt.ylim(0, top_n)\n",
    "\n"
   ]
  },
  {
   "cell_type": "code",
   "execution_count": 30,
   "metadata": {
    "collapsed": false
   },
   "outputs": [
    {
     "name": "stdout",
     "output_type": "stream",
     "text": [
      "ypred: 0 GB1: 81.2845977405\n",
      "ypred2: 0 GB2: 81.2970909595\n",
      "ypred3: 0 GB3: 81.0210166163\n",
      "ypred4: 0 GB4: 80.8442320392\n"
     ]
    }
   ],
   "source": [
    "### Comparing DataSets and Tuning parameters that generated the best model ##\n",
    "scale = MinMaxScaler()\n",
    "# clf = GradientBoostingClassifier(random_state=34,n_estimators=230,max_depth=3,subsample=0.895,max_features=10)\n",
    "# clf = RandomForestClassifier(random_state=0,n_estimators=220,max_features=5)\n",
    "# clf = AdaBoostClassifier(random_state=34,n_estimators=138,learning_rate=0.6)\n",
    "# clf = MLPClassifier(alpha=0.15,random_state=seed)\n",
    "\n",
    "# for m in np.arange(0,50,1):\n",
    "for m in np.arange(1):\n",
    "    clf = GradientBoostingClassifier(random_state=34,n_estimators=231,\n",
    "                                     max_depth=3,subsample=0.895,max_features=10)\n",
    "#     clf = GradientBoostingClassifier(random_state=m,n_estimators=231,max_depth=3,subsample=0.895,max_features=10)\n",
    "\n",
    "    \n",
    "    gb = make_pipeline(scale,clf).fit(X_train,y_train)\n",
    "    ypred = gb.predict_proba(X_test)[:,1]\n",
    "    print(\"ypred:\",m,\"GB1:\",100*roc_auc_score(y_test['subscribed'],ypred))\n",
    "    \n",
    "    gb2 = make_pipeline(scale,clf).fit(X_train2,y_train)\n",
    "    ypred2 = gb2.predict_proba(X_test2)[:,1]\n",
    "    print(\"ypred2:\",m,\"GB2:\",100*roc_auc_score(y_test2['subscribed'],ypred2))\n",
    "\n",
    "    gb3 = make_pipeline(scale,clf).fit(X_train3,y_train)\n",
    "    ypred3 = gb3.predict_proba(X_test3)[:,1]\n",
    "    print(\"ypred3:\",m,\"GB3:\",100*roc_auc_score(y_test3,ypred3))\n",
    "\n",
    "    gb4 = make_pipeline(scale,clf).fit(X_train4,y_train)\n",
    "    ypred4 = gb4.predict_proba(X_test4)[:,1]\n",
    "    print(\"ypred4:\",m,\"GB4:\",100*roc_auc_score(y_test4,ypred4))\n",
    "\n"
   ]
  },
  {
   "cell_type": "code",
   "execution_count": 31,
   "metadata": {
    "collapsed": false
   },
   "outputs": [
    {
     "name": "stdout",
     "output_type": "stream",
     "text": [
      "ypred: 0 GB1: 81.2845977405\n",
      "ypred2: 0 GB2: 81.2970909595\n",
      "ypred3: 0 GB3: 81.0210166163\n",
      "ypred4: 0 GB4: 80.8442320392\n"
     ]
    }
   ],
   "source": [
    "### Comparing DataSets and Tuning parameters that generated the best model2 ##\n",
    "\n",
    "scale = MinMaxScaler()\n",
    "# clf = GradientBoostingClassifier(random_state=34,n_estimators=230,max_depth=3,subsample=0.895,max_features=10)\n",
    "# clf = RandomForestClassifier(random_state=0,n_estimators=220,max_features=5)\n",
    "# clf = AdaBoostClassifier(random_state=34,n_estimators=138,learning_rate=0.6)\n",
    "# clf = MLPClassifier(alpha=0.15,random_state=seed)\n",
    "\n",
    "del dfx3['cons_price_idx']\n",
    "del hold3['cons_price_idx']\n",
    "\n",
    "del dfx3['education_basic.6y']\n",
    "del hold3['education_basic.6y']\n",
    "\n",
    "del dfx3['education_basic.4y']\n",
    "del hold3['education_basic.4y']\n",
    "\n",
    "# for m in np.arange(0,50,1):\n",
    "for m in np.arange(1):\n",
    "    clf = GradientBoostingClassifier(random_state=34,n_estimators=231,max_depth=3,subsample=0.895,max_features=10)\n",
    "#     clf = GradientBoostingClassifier(random_state=m,n_estimators=231,max_depth=3,subsample=0.895,max_features=10)\n",
    "\n",
    "    \n",
    "    gb = make_pipeline(scale,clf).fit(X_train,y_train)\n",
    "    ypred = gb.predict_proba(X_test)[:,1]\n",
    "    print(\"ypred:\",m,\"GB1:\",100*roc_auc_score(y_test['subscribed'],ypred))\n",
    "    \n",
    "    gb2 = make_pipeline(scale,clf).fit(X_train2,y_train)\n",
    "    ypred2 = gb2.predict_proba(X_test2)[:,1]\n",
    "    print(\"ypred2:\",m,\"GB2:\",100*roc_auc_score(y_test2['subscribed'],ypred2))\n",
    "\n",
    "    gb3 = make_pipeline(scale,clf).fit(X_train3,y_train)\n",
    "    ypred3 = gb3.predict_proba(X_test3)[:,1]\n",
    "    print(\"ypred3:\",m,\"GB3:\",100*roc_auc_score(y_test3,ypred3))\n",
    "\n",
    "    gb4 = make_pipeline(scale,clf).fit(X_train4,y_train)\n",
    "    ypred4 = gb4.predict_proba(X_test4)[:,1]\n",
    "    print(\"ypred4:\",m,\"GB4:\",100*roc_auc_score(y_test4,ypred4))\n",
    "\n"
   ]
  },
  {
   "cell_type": "markdown",
   "metadata": {},
   "source": [
    "## Cross Validation"
   ]
  },
  {
   "cell_type": "code",
   "execution_count": 32,
   "metadata": {
    "collapsed": false
   },
   "outputs": [
    {
     "name": "stdout",
     "output_type": "stream",
     "text": [
      "GB: 79.718319613\n"
     ]
    }
   ],
   "source": [
    "df3 = pd.read_csv(\"data/data.csv\")\n",
    "df3['subscribed']=df3['subscribed'].replace('yes',1,regex=True)\n",
    "df3['subscribed']=df3['subscribed'].replace('no',0,regex=True)\n",
    "\n",
    "hold3 = pd.read_csv(\"data/holdout.csv\")\n",
    "holdID=hold3[\"ID\"]\n",
    "dfy3 = df3['subscribed']\n",
    "del df3['duration']\n",
    "del df3['subscribed']\n",
    "dfx3 = df3\n",
    "del hold3['duration']\n",
    "del hold3['ID']\n",
    "\n",
    "dfx3 = pd.get_dummies(dfx3)\n",
    "hold3 = pd.get_dummies(hold3)\n",
    "del dfx3['credit_default_yes'] ## removing this because holdout does not have this category\n",
    "\n",
    "scale = MinMaxScaler()\n",
    "# logpipe = make_pipeline(scale,LogisticRegressionCV())\n",
    "# rf = make_pipeline(scale,RandomForestClassifier(random_state=rng,n_estimators=180,max_features=8))\n",
    "# gs = make_pipeline(scale,GaussianNB())\n",
    "gb = make_pipeline(scale,GradientBoostingClassifier(random_state=34,n_estimators=231,max_depth=3,subsample=0.895,max_features=10))\n",
    "\n",
    "# print(\"LogReg:\", 100*np.mean(cross_val_score(logpipe, dfx3, dfy3, cv = 5, scoring=\"roc_auc\")))\n",
    "# print(\"RF:\",100*np.mean(cross_val_score(rf,  dfx3, dfy3, cv = 5, scoring=\"roc_auc\")))\n",
    "# print(\"GS:\",100*np.mean(cross_val_score(gs,  dfx3, dfy3, cv = 5, scoring=\"roc_auc\")))\n",
    "print(\"GB:\",100*np.mean(cross_val_score(gb, dfx3, dfy3, cv = 10, scoring=\"roc_auc\")))\n"
   ]
  },
  {
   "cell_type": "markdown",
   "metadata": {},
   "source": [
    "## Test\n",
    "Here we assert that ROC score is greater than .81"
   ]
  },
  {
   "cell_type": "code",
   "execution_count": 33,
   "metadata": {
    "collapsed": false
   },
   "outputs": [
    {
     "name": "stdout",
     "output_type": "stream",
     "text": [
      "ROC score: 81.0210166163\n"
     ]
    }
   ],
   "source": [
    "def testFinal():\n",
    "    split = 0.25\n",
    "    seed = 0\n",
    "    df3 = pd.read_csv(\"data/data.csv\")\n",
    "    df3['subscribed']=df3['subscribed'].replace('yes',1,regex=True)\n",
    "    df3['subscribed']=df3['subscribed'].replace('no',0,regex=True)\n",
    "\n",
    "    hold3 = pd.read_csv(\"data/holdout.csv\")\n",
    "\n",
    "    dfy3 = df3['subscribed']\n",
    "    del df3['duration']\n",
    "    del df3['subscribed']\n",
    "    dfx3 = df3\n",
    "    del hold3['duration']\n",
    "    del hold3['ID']\n",
    "\n",
    "    dfx3 = pd.get_dummies(dfx3)\n",
    "    hold3 = pd.get_dummies(hold3)\n",
    "    del dfx3['credit_default_yes']\n",
    "\n",
    "\n",
    "    X_train3, X_test3, y_train3, y_test3 = train_test_split(dfx3, dfy3, \n",
    "                                                        test_size=split,\n",
    "                                                        random_state=seed,\n",
    "                                                       stratify=dfy3)\n",
    "\n",
    "    scale = MinMaxScaler()\n",
    "    clf = GradientBoostingClassifier(random_state=34,n_estimators=231,\n",
    "                                     max_depth=3,subsample=0.895,max_features=10)\n",
    "\n",
    "    gb3 = make_pipeline(scale,clf).fit(X_train3,y_train)\n",
    "    ypred3 = gb3.predict_proba(X_test3)[:,1]\n",
    "    print(\"ROC score:\",100*roc_auc_score(y_test3,ypred3))\n",
    "    assert((100*roc_auc_score(y_test3,ypred3) > 81.0),\"Drop in ROC score\")\n",
    "    #print(\"ypred3:\",m,\"GB3:\",100*roc_auc_score(y_test3,ypred3))\n",
    "\n",
    "\n",
    "testFinal()\n"
   ]
  },
  {
   "cell_type": "markdown",
   "metadata": {},
   "source": [
    "## We selected 3rd type of loading the data based on overall cross validation scores and kaggle scores.\n",
    " 3rd type of loading: load the data without much modification (no binning, imputation and other fancy pre-processing) and \n",
    " no subsetting and then use gradientboostingclassifier"
   ]
  },
  {
   "cell_type": "markdown",
   "metadata": {},
   "source": [
    "### Best Mode l - Kaggle Public Score : 0.78533 ###\n",
    "\n",
    "After so many tries and Cross validation and feedback scores on Kaggle, we selected to use data from 3rd load - meaning, \n",
    "we load the data without cleaning and without removing any features (except for the prohibited features such as duration\n",
    "and subscribed)\n",
    "\n"
   ]
  },
  {
   "cell_type": "code",
   "execution_count": 34,
   "metadata": {
    "collapsed": false
   },
   "outputs": [],
   "source": [
    "\n",
    "df3 = pd.read_csv(\"data/data.csv\")\n",
    "df3['subscribed']=df3['subscribed'].replace('yes',1,regex=True)\n",
    "df3['subscribed']=df3['subscribed'].replace('no',0,regex=True)\n",
    "\n",
    "hold3 = pd.read_csv(\"data/holdout.csv\")\n",
    "holdID=hold3[\"ID\"]\n",
    "df3y = df3['subscribed']\n",
    "del df3['duration']\n",
    "del df3['subscribed']\n",
    "dfx3 = df3\n",
    "del hold3['duration']\n",
    "del hold3['ID']\n",
    "\n",
    "dfx3 = pd.get_dummies(dfx3)\n",
    "hold3 = pd.get_dummies(hold3)\n",
    "del dfx3['credit_default_yes'] ## removing this because holdout does not have this category\n",
    "\n",
    "scale = MinMaxScaler()\n",
    "\n",
    "clf = GradientBoostingClassifier(random_state=34,n_estimators=231,max_depth=3,subsample=0.895,max_features=10)\n",
    "\n",
    "\n",
    "pipe = make_pipeline(scale, clf).fit(dfx3,df3y)\n",
    "y_pred = pipe.predict_proba(hold3)[:,1]\n",
    "# y_pred = pipe.predict(hold3)\n",
    "\n",
    "out_df = pd.DataFrame(y_pred)\n",
    "\n",
    "out_df[\"ID\"] = holdID\n",
    "out_df.columns = [\"subscribed\", \"ID\"]\n",
    "#out_df.to_csv(\"predictproba.csv\", columns=[\"ID\",\"subscribed\"],index=False)    \n",
    "\n"
   ]
  },
  {
   "cell_type": "markdown",
   "metadata": {},
   "source": [
    "### Best Model 2 - Kaggle Public Score : 0.78382 ###\n",
    "\n",
    "After so many tries and Cross validation and feedback scores on Kaggle, we selected to use data from 3rd load - meaning, \n",
    "\n",
    "we load the data without cleaning and without removing any features (except for the prohibited features such as duration\n",
    "and subscribed)\n",
    "\n"
   ]
  },
  {
   "cell_type": "code",
   "execution_count": 35,
   "metadata": {
    "collapsed": false
   },
   "outputs": [],
   "source": [
    "df3 = pd.read_csv(\"data/data.csv\")\n",
    "df3['subscribed']=df3['subscribed'].replace('yes',1,regex=True)\n",
    "df3['subscribed']=df3['subscribed'].replace('no',0,regex=True)\n",
    "\n",
    "hold3 = pd.read_csv(\"data/holdout.csv\")\n",
    "holdID=hold3[\"ID\"]\n",
    "df3y = df3['subscribed']\n",
    "del df3['duration']\n",
    "del df3['subscribed']\n",
    "dfx3 = df3\n",
    "del hold3['duration']\n",
    "del hold3['ID']\n",
    "\n",
    "dfx3 = pd.get_dummies(dfx3)\n",
    "hold3 = pd.get_dummies(hold3)\n",
    "del dfx3['credit_default_yes'] ## removing this because holdout does not have this category\n",
    "\n",
    "scale = MinMaxScaler()\n",
    "\n",
    "\n",
    "del dfx3['cons_price_idx']\n",
    "del hold3['cons_price_idx']\n",
    "\n",
    "del dfx3['education_basic.6y']\n",
    "del hold3['education_basic.6y']\n",
    "\n",
    "del dfx3['education_basic.4y']\n",
    "del hold3['education_basic.4y']\n",
    "\n",
    "clf = GradientBoostingClassifier(random_state=34,n_estimators=231,max_depth=3,subsample=0.895,max_features=10)\n",
    "\n",
    "\n",
    "pipe = make_pipeline(scale, clf).fit(dfx3,df3y)\n",
    "y_pred = pipe.predict_proba(hold3)[:,1]\n",
    "# y_pred = pipe.predict(hold3)\n",
    "\n",
    "out_df = pd.DataFrame(y_pred)\n",
    "\n",
    "out_df[\"ID\"] = holdID\n",
    "out_df.columns = [\"subscribed\", \"ID\"]\n",
    "#out_df.to_csv(\"predictproba.csv\", columns=[\"ID\",\"subscribed\"],index=False)    \n",
    "\n"
   ]
  },
  {
   "cell_type": "markdown",
   "metadata": {},
   "source": [
    "# Bonus: Resampling Techniques\n",
    "\n",
    "Here we tried random over sampling and under sampling and scores are reported below (on a simple voting classifier).-We are reporting only one here\n",
    "However the score is lower than our best score in above models hence we are not using it in final submission!"
   ]
  },
  {
   "cell_type": "markdown",
   "metadata": {},
   "source": [
    "## ATTEMPT 1 -RandomOverSampling\n",
    "We tried multiple parameters and reporting best here which performs worse that our final model"
   ]
  },
  {
   "cell_type": "code",
   "execution_count": 36,
   "metadata": {
    "collapsed": false
   },
   "outputs": [
    {
     "name": "stdout",
     "output_type": "stream",
     "text": [
      "\n",
      "test: 0.112696004047\n",
      "\n",
      "train: 0.112638196401\n",
      "finished fit\n",
      "finished predict\n",
      "Accuracy: 83.0956%\n",
      "ROC Accuracy: 81.2904%\n"
     ]
    }
   ],
   "source": [
    "trainX,trainY, train=Main(\"data/data.csv\")\n",
    "holdoutTrain, holdoutID, holdout = Main(\"data/holdout.csv\")\n",
    "\n",
    "trainX=pd.get_dummies(trainX)\n",
    "holdoutTrain=pd.get_dummies(holdoutTrain)\n",
    "del trainX['credit_default_yes']\n",
    "\n",
    "split=0.3\n",
    "X_train, X_test, y_train, y_test = train_test_split(trainX, trainY, \n",
    "                                                    test_size=split,\n",
    "                                                    random_state=rng,\n",
    "                                                   stratify=trainY)\n",
    "\n",
    "print(\"\\ntest:\",((y_test.sum())/(y_test.shape[0]))[0])\n",
    "print(\"\\ntrain:\",((y_train.sum())/(y_train.shape[0]))[0])\n",
    "\n",
    "scale = MinMaxScaler()\n",
    "\n",
    "from sklearn.ensemble import ExtraTreesClassifier\n",
    "np.random.seed(seed)\n",
    "lr = LogisticRegression(random_state=rng)\n",
    "gnb = GaussianNB()\n",
    "boost=GradientBoostingClassifier(n_estimators =185)\n",
    "ada=AdaBoostClassifier(n_estimators=270)\n",
    "randomforestBest=RandomForestClassifier(n_estimators=100,\n",
    "                                       warm_start=False,\n",
    "                                       verbose =False,\n",
    "                                       max_depth=15,\n",
    "                                       max_features=20)\n",
    "\n",
    "extf=ExtraTreesClassifier(n_estimators=100, max_depth=7,\n",
    "                                               min_samples_split=2, \n",
    "                                               random_state=0)\n",
    "mlp=MLPClassifier(alpha=0.15),\n",
    "eclf = VotingClassifier(estimators=[\n",
    "                                    ('lr', lr),\n",
    "                                     ('gnb', gnb), \n",
    "                                    ('boost', boost),\n",
    "                                    ('extf',extf)\n",
    "],\n",
    "                        voting='soft',\n",
    "                        weights=[15, 0, 15,10],##81.2582%\n",
    "                        n_jobs=-1)\n",
    "clf=eclf.fit(X_train, y_train)\n",
    "pipe = make_imb_pipeline(scale,\n",
    "                         RandomOverSampler(random_state=24),\n",
    "                         eclf).fit(X_train, y_train)\n",
    "print(\"finished fit\")\n",
    "test_predicted=pipe.predict(X_test)\n",
    "print(\"finished predict\")\n",
    "clf_probab=pipe.predict_proba(X_test)[:,1]\n",
    "\n",
    "\n",
    "acc = accuracy_score(y_test, test_predicted)\n",
    "roc= roc_auc_score(y_test, clf_probab)\n",
    "\n",
    "print(\"Accuracy: {:.4%}\".format(acc))  \n",
    "print(\"ROC Accuracy: {:.4%}\".format(roc)) \n",
    "\n"
   ]
  },
  {
   "cell_type": "markdown",
   "metadata": {},
   "source": [
    "## ATTEMPT 2 -RandomUnderSampler\n",
    "Agsin,we tried multiple parameters and reporting best here which performs worse that our final model"
   ]
  },
  {
   "cell_type": "code",
   "execution_count": 37,
   "metadata": {
    "collapsed": false
   },
   "outputs": [
    {
     "name": "stdout",
     "output_type": "stream",
     "text": [
      "\n",
      "test: 0.112696004047\n",
      "\n",
      "train: 0.112638196401\n",
      "finished fit\n",
      "finished predict\n",
      "Accuracy: 82.7516%\n",
      "ROC Accuracy: 80.8903%\n"
     ]
    }
   ],
   "source": [
    "trainX,trainY, train=Main(\"data/data.csv\")\n",
    "holdoutTrain, holdoutID, holdout = Main(\"data/holdout.csv\")\n",
    "\n",
    "trainX=pd.get_dummies(trainX)\n",
    "holdoutTrain=pd.get_dummies(holdoutTrain)\n",
    "del trainX['credit_default_yes']\n",
    "\n",
    "split=0.3\n",
    "X_train, X_test, y_train, y_test = train_test_split(trainX, trainY, \n",
    "                                                    test_size=split,\n",
    "                                                    random_state=rng,\n",
    "                                                   stratify=trainY)\n",
    "\n",
    "print(\"\\ntest:\",((y_test.sum())/(y_test.shape[0]))[0])\n",
    "print(\"\\ntrain:\",((y_train.sum())/(y_train.shape[0]))[0])\n",
    "\n",
    "scale = MinMaxScaler()\n",
    "\n",
    "from sklearn.ensemble import ExtraTreesClassifier\n",
    "np.random.seed(seed)\n",
    "lr = LogisticRegression(random_state=rng)\n",
    "gnb = GaussianNB()\n",
    "boost=GradientBoostingClassifier(n_estimators =185)\n",
    "ada=AdaBoostClassifier(n_estimators=270)\n",
    "randomforestBest=RandomForestClassifier(n_estimators=100,\n",
    "                                       warm_start=False,\n",
    "                                       verbose =False,\n",
    "                                       max_depth=15,\n",
    "                                       max_features=20)\n",
    "\n",
    "extf=ExtraTreesClassifier(n_estimators=100, max_depth=7,\n",
    "                                               min_samples_split=2, \n",
    "                                               random_state=0)\n",
    "mlp=MLPClassifier(alpha=0.15),\n",
    "eclf = VotingClassifier(estimators=[\n",
    "                                    ('lr', lr),\n",
    "                                     ('gnb', gnb), \n",
    "                                    ('boost', boost),\n",
    "                                    ('extf',extf)\n",
    "],\n",
    "                        voting='soft',\n",
    "                        weights=[15, 0, 15,10],##81.2582%\n",
    "                        n_jobs=-1)\n",
    "clf=eclf.fit(X_train, y_train)\n",
    "rus = RandomUnderSampler(replacement=False)\n",
    "pipe = make_imb_pipeline(scale,\n",
    "                         rus,\n",
    "                         eclf).fit(X_train, y_train)\n",
    "print(\"finished fit\")\n",
    "test_predicted=pipe.predict(X_test)\n",
    "print(\"finished predict\")\n",
    "clf_probab=pipe.predict_proba(X_test)[:,1]\n",
    "\n",
    "\n",
    "acc = accuracy_score(y_test, test_predicted)\n",
    "roc= roc_auc_score(y_test, clf_probab)\n",
    "\n",
    "print(\"Accuracy: {:.4%}\".format(acc))  \n",
    "print(\"ROC Accuracy: {:.4%}\".format(roc)) \n",
    "\n",
    "\n"
   ]
  }
 ],
 "metadata": {
  "anaconda-cloud": {},
  "kernelspec": {
   "display_name": "Python [default]",
   "language": "python",
   "name": "python3"
  },
  "language_info": {
   "codemirror_mode": {
    "name": "ipython",
    "version": 3
   },
   "file_extension": ".py",
   "mimetype": "text/x-python",
   "name": "python",
   "nbconvert_exporter": "python",
   "pygments_lexer": "ipython3",
   "version": "3.5.3"
  }
 },
 "nbformat": 4,
 "nbformat_minor": 2
}
